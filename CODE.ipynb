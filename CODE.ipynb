{
  "nbformat": 4,
  "nbformat_minor": 0,
  "metadata": {
    "colab": {
      "provenance": []
    },
    "kernelspec": {
      "name": "python3",
      "display_name": "Python 3"
    },
    "language_info": {
      "name": "python"
    }
  },
  "cells": [
    {
      "cell_type": "code",
      "execution_count": 1,
      "metadata": {
        "colab": {
          "base_uri": "https://localhost:8080/"
        },
        "id": "_zY1FcjvMAiK",
        "outputId": "ae424224-9e6d-4353-a75a-73231e446e85"
      },
      "outputs": [
        {
          "output_type": "stream",
          "name": "stdout",
          "text": [
            "Accuracy: 1.0\n"
          ]
        }
      ],
      "source": [
        "import numpy as np\n",
        "from sklearn.datasets import load_iris\n",
        "from sklearn.model_selection import train_test_split\n",
        "from sklearn.metrics import accuracy_score\n",
        "\n",
        "# Calculate the distance between two points using Euclidean distance\n",
        "def euclidean_distance(point1, point2):\n",
        "    return np.sqrt(np.sum((point1 - point2) ** 2))\n",
        "\n",
        "# Calculate the distance between two points using Manhattan distance\n",
        "def manhattan_distance(point1, point2):\n",
        "    return np.sum(np.abs(point1 - point2))\n",
        "\n",
        "# K-NN classification algorithm\n",
        "def k_nearest_neighbors(X_train, y_train, X_test, k, distance_metric):\n",
        "    predictions = []\n",
        "    for test_point in X_test:\n",
        "        distances = []\n",
        "        for i, train_point in enumerate(X_train):\n",
        "            if distance_metric == \"euclidean\":\n",
        "                distance = euclidean_distance(test_point, train_point)\n",
        "            elif distance_metric == \"manhattan\":\n",
        "                distance = manhattan_distance(test_point, train_point)\n",
        "            distances.append((distance, y_train[i]))\n",
        "\n",
        "        distances.sort(key=lambda x: x[0])\n",
        "        neighbors = distances[:k]\n",
        "        labels = [neighbor[1] for neighbor in neighbors]\n",
        "        prediction = max(set(labels), key=labels.count)\n",
        "        predictions.append(prediction)\n",
        "    return predictions\n",
        "\n",
        "# Load the Iris dataset\n",
        "iris = load_iris()\n",
        "X = iris.data\n",
        "y = iris.target\n",
        "\n",
        "# Split the data into training and testing sets\n",
        "X_train, X_test, y_train, y_test = train_test_split(X, y, test_size=0.2, random_state=42)\n",
        "\n",
        "# Set the value of k and the distance metric\n",
        "k = 5\n",
        "distance_metric = \"euclidean\"  # \"manhattan\" for Manhattan distance\n",
        "\n",
        "# Apply K-NN algorithm\n",
        "y_pred = k_nearest_neighbors(X_train, y_train, X_test, k, distance_metric)\n",
        "\n",
        "# Calculate accuracy\n",
        "accuracy = accuracy_score(y_test, y_pred)\n",
        "print(f\"Accuracy: {accuracy}\")\n"
      ]
    },
    {
      "cell_type": "code",
      "source": [
        "from sklearn.datasets import load_iris\n",
        "from sklearn.model_selection import train_test_split\n",
        "from sklearn.neighbors import KNeighborsClassifier\n",
        "from sklearn.metrics import accuracy_score\n",
        "\n",
        "# Load the Iris dataset\n",
        "iris = load_iris()\n",
        "X = iris.data\n",
        "y = iris.target\n",
        "\n",
        "# Split the data into training and testing sets\n",
        "X_train, X_test, y_train, y_test = train_test_split(X, y, test_size=0.2, random_state=42)\n",
        "\n",
        "# Set the value of k and the distance metric\n",
        "k = 5\n",
        "distance_metric = \"euclidean\"  # \"manhattan\" for Manhattan distance\n",
        "\n",
        "# Create a K-NN classifier\n",
        "knn = KNeighborsClassifier(n_neighbors=k, metric=distance_metric)\n",
        "\n",
        "# Fit the classifier to the training data\n",
        "knn.fit(X_train, y_train)\n",
        "\n",
        "# Make predictions on the test data\n",
        "y_pred = knn.predict(X_test)\n",
        "\n",
        "# Calculate accuracy\n",
        "accuracy = accuracy_score(y_test, y_pred)\n",
        "print(f\"Accuracy: {accuracy}\")\n"
      ],
      "metadata": {
        "colab": {
          "base_uri": "https://localhost:8080/"
        },
        "id": "FViF5oFQMp4p",
        "outputId": "a43c250e-06e2-49ea-ddaa-76a6db9c3f65"
      },
      "execution_count": 2,
      "outputs": [
        {
          "output_type": "stream",
          "name": "stdout",
          "text": [
            "Accuracy: 1.0\n"
          ]
        }
      ]
    },
    {
      "cell_type": "code",
      "source": [
        "from google.colab import drive\n",
        "drive.mount('/content/gdrive')"
      ],
      "metadata": {
        "colab": {
          "base_uri": "https://localhost:8080/"
        },
        "id": "ZEtXe8pyMrok",
        "outputId": "2a10c6ce-8471-49c6-d0e9-7af95c78b531"
      },
      "execution_count": 3,
      "outputs": [
        {
          "output_type": "stream",
          "name": "stdout",
          "text": [
            "Mounted at /content/gdrive\n"
          ]
        }
      ]
    },
    {
      "cell_type": "code",
      "source": [
        "cd /content/gdrive/My Drive/Dataset"
      ],
      "metadata": {
        "colab": {
          "base_uri": "https://localhost:8080/"
        },
        "id": "pFXdmSYJM7lU",
        "outputId": "a961838a-e1b8-4a56-fcbc-bf5b8bc2e2ac"
      },
      "execution_count": 5,
      "outputs": [
        {
          "output_type": "stream",
          "name": "stdout",
          "text": [
            "/content/gdrive/My Drive/Dataset\n"
          ]
        }
      ]
    },
    {
      "cell_type": "code",
      "source": [
        "ls"
      ],
      "metadata": {
        "colab": {
          "base_uri": "https://localhost:8080/"
        },
        "id": "s0kenRhdN5Nh",
        "outputId": "4eb3b51a-4baf-4a37-9c40-0ab4cd6f6a95"
      },
      "execution_count": 7,
      "outputs": [
        {
          "output_type": "stream",
          "name": "stdout",
          "text": [
            " houseprice.csv  'Iris (3).csv'   weight-height.csv\n"
          ]
        }
      ]
    },
    {
      "cell_type": "code",
      "source": [
        "import numpy as np\n",
        "import pandas as pd\n",
        "from sklearn.model_selection import train_test_split\n",
        "from sklearn.neighbors import KNeighborsRegressor\n",
        "from sklearn.metrics import mean_squared_error\n",
        "\n",
        "# Load the Iris dataset from CSV file\n",
        "iris_df = pd.read_csv('Iris.csv')\n",
        "\n",
        "# Extract the sepal length and sepal width features\n",
        "X = iris_df[['SepalLengthCm']].values\n",
        "y = iris_df[['SepalWidthCm']].values\n",
        "\n",
        "# Split the data into training and testing sets\n",
        "X_train, X_test, y_train, y_test = train_test_split(X, y, test_size=0.2, random_state=42)\n",
        "\n",
        "# K-NN regression algorithm implementation\n",
        "def k_nearest_neighbors_regression(X_train, y_train, X_test, k):\n",
        "    predictions = []\n",
        "    for test_point in X_test:\n",
        "        distances = []\n",
        "        for i, train_point in enumerate(X_train):\n",
        "            distance = np.sqrt(np.sum((test_point - train_point) ** 2))\n",
        "            distances.append((distance, y_train[i]))\n",
        "\n",
        "        distances.sort(key=lambda x: x[0])\n",
        "        neighbors = distances[:k]\n",
        "        sum_of_weights = np.sum([1 / d[0] for d in neighbors])\n",
        "        prediction = np.sum([d[1] / d[0] for d in neighbors]) / sum_of_weights\n",
        "        predictions.append(prediction)\n",
        "    return predictions\n",
        "\n",
        "# Set the value of k for K-NN regression\n",
        "k_values = [1, 3, 5, 7]\n",
        "\n",
        "# Apply K-NN regression using your implementation and calculate RMSE\n",
        "for k in k_values:\n",
        "    y_pred_custom = k_nearest_neighbors_regression(X_train, y_train, X_test, k)\n",
        "    rmse_custom = np.sqrt(mean_squared_error(y_test, y_pred_custom))\n",
        "    print(f'Custom Implementation - K={k}: RMSE = {rmse_custom:.3f}')\n",
        "\n",
        "# Apply K-NN regression using scikit-learn and calculate RMSE\n",
        "for k in k_values:\n",
        "    knn = KNeighborsRegressor(n_neighbors=k)\n",
        "    knn.fit(X_train, y_train)\n",
        "    y_pred_sklearn = knn.predict(X_test)\n",
        "    rmse_sklearn = np.sqrt(mean_squared_error(y_test, y_pred_sklearn))\n",
        "    print(f'scikit-learn - K={k}: RMSE = {rmse_sklearn:.3f}')\n"
      ],
      "metadata": {
        "id": "5N-lsZpOO7yG"
      },
      "execution_count": null,
      "outputs": []
    }
  ]
}
